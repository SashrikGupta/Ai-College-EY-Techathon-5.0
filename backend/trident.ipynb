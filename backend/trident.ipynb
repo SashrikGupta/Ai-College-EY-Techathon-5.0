{
 "cells": [
  {
   "cell_type": "code",
   "execution_count": 15,
   "metadata": {},
   "outputs": [],
   "source": [
    "\n",
    "jobTitle = \"software development engineer \" \n",
    "skills = \"dsa , Cloud Computing \"\n",
    "\n",
    "prompt = f\"\"\"   You are an expert interviewer. \n",
    "The candidate is applying for the role of: {jobTitle}.\n",
    "Required skills: {skills}.\n",
    "\n",
    "INSTRUCTIONS:\n",
    "- Return exactly 7-8 top interview questions.\n",
    "- Return ONLY valid JSON, in the format:\n",
    "\n",
    "{{\n",
    "  \"questions\": [\n",
    "    \"Question 1\",\n",
    "    \"Question 2\",\n",
    "    ...\n",
    "  ]\n",
    "}}\n",
    "\"\"\"\n",
    "\n",
    "from langchain_groq import ChatGroq\n",
    "from langchain_core.pydantic_v1 import BaseModel, Field\n",
    "from typing import List \n",
    "from dotenv import dotenv_values\n",
    "\n",
    "config = dotenv_values(\".env\") \n",
    "class Questions(BaseModel):\n",
    "        questions : List[str] = Field(description=\"List of all the questions\") \n",
    "\n",
    "llm=ChatGroq(groq_api_key=config['GROQ_API_KEY_STAFF'],model_name=\"llama-3.3-70b-versatile\")\n",
    "structured_llm = llm.with_structured_output(Questions)\n",
    "\n",
    "structured_output = structured_llm.invoke(prompt).dict()"
   ]
  },
  {
   "cell_type": "code",
   "execution_count": 16,
   "metadata": {},
   "outputs": [
    {
     "data": {
      "text/plain": [
       "{'questions': ['What is the difference between monolithic architecture and microservices architecture?',\n",
       "  'How do you optimize the performance of a slow database query?',\n",
       "  'Can you explain the concept of load balancing in cloud computing?',\n",
       "  'How do you handle errors and exceptions in your code?',\n",
       "  'What is the trade-off between scalability and availability in a distributed system?',\n",
       "  'Can you write a simple algorithm to find the middle element of a linked list?',\n",
       "  'Can you describe your experience with cloud-based platforms such as AWS or Azure?',\n",
       "  'How do you approach debugging a complex issue in your code?']}"
      ]
     },
     "execution_count": 16,
     "metadata": {},
     "output_type": "execute_result"
    }
   ],
   "source": [
    "structured_output"
   ]
  },
  {
   "cell_type": "code",
   "execution_count": null,
   "metadata": {},
   "outputs": [],
   "source": []
  }
 ],
 "metadata": {
  "kernelspec": {
   "display_name": "Python 3",
   "language": "python",
   "name": "python3"
  },
  "language_info": {
   "codemirror_mode": {
    "name": "ipython",
    "version": 3
   },
   "file_extension": ".py",
   "mimetype": "text/x-python",
   "name": "python",
   "nbconvert_exporter": "python",
   "pygments_lexer": "ipython3",
   "version": "3.11.4"
  }
 },
 "nbformat": 4,
 "nbformat_minor": 2
}
